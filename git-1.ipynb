{
 "cells": [
  {
   "cell_type": "code",
   "execution_count": 1,
   "id": "45de0b9e",
   "metadata": {},
   "outputs": [],
   "source": [
    "import pandas as pd\n",
    "import numpy as np"
   ]
  },
  {
   "cell_type": "code",
   "execution_count": 2,
   "id": "6f653d90",
   "metadata": {},
   "outputs": [],
   "source": [
    "object_data = pd.read_csv(\"objects.csv\")"
   ]
  },
  {
   "cell_type": "code",
   "execution_count": 3,
   "id": "1a9c0594",
   "metadata": {},
   "outputs": [
    {
     "data": {
      "text/html": [
       "<div>\n",
       "<style scoped>\n",
       "    .dataframe tbody tr th:only-of-type {\n",
       "        vertical-align: middle;\n",
       "    }\n",
       "\n",
       "    .dataframe tbody tr th {\n",
       "        vertical-align: top;\n",
       "    }\n",
       "\n",
       "    .dataframe thead th {\n",
       "        text-align: right;\n",
       "    }\n",
       "</style>\n",
       "<table border=\"1\" class=\"dataframe\">\n",
       "  <thead>\n",
       "    <tr style=\"text-align: right;\">\n",
       "      <th></th>\n",
       "      <th>object</th>\n",
       "      <th>shape</th>\n",
       "      <th>colour</th>\n",
       "      <th>quantity</th>\n",
       "    </tr>\n",
       "  </thead>\n",
       "  <tbody>\n",
       "    <tr>\n",
       "      <th>0</th>\n",
       "      <td>mirror</td>\n",
       "      <td>circle</td>\n",
       "      <td>silver</td>\n",
       "      <td>1</td>\n",
       "    </tr>\n",
       "    <tr>\n",
       "      <th>1</th>\n",
       "      <td>wheel</td>\n",
       "      <td>circle</td>\n",
       "      <td>silver</td>\n",
       "      <td>4</td>\n",
       "    </tr>\n",
       "    <tr>\n",
       "      <th>2</th>\n",
       "      <td>lemon</td>\n",
       "      <td>circle</td>\n",
       "      <td>yellow</td>\n",
       "      <td>4</td>\n",
       "    </tr>\n",
       "    <tr>\n",
       "      <th>3</th>\n",
       "      <td>box</td>\n",
       "      <td>square</td>\n",
       "      <td>brown</td>\n",
       "      <td>3</td>\n",
       "    </tr>\n",
       "    <tr>\n",
       "      <th>4</th>\n",
       "      <td>bread</td>\n",
       "      <td>square</td>\n",
       "      <td>white</td>\n",
       "      <td>10</td>\n",
       "    </tr>\n",
       "  </tbody>\n",
       "</table>\n",
       "</div>"
      ],
      "text/plain": [
       "   object   shape  colour  quantity\n",
       "0  mirror  circle  silver         1\n",
       "1   wheel  circle  silver         4\n",
       "2   lemon  circle  yellow         4\n",
       "3     box  square   brown         3\n",
       "4   bread  square   white        10"
      ]
     },
     "execution_count": 3,
     "metadata": {},
     "output_type": "execute_result"
    }
   ],
   "source": [
    "object_data.head()"
   ]
  },
  {
   "cell_type": "code",
   "execution_count": 4,
   "id": "f4b4cf54",
   "metadata": {},
   "outputs": [],
   "source": [
    "shaped_data = object_data.groupby(\"shape\")"
   ]
  },
  {
   "cell_type": "code",
   "execution_count": 5,
   "id": "dd7775af",
   "metadata": {},
   "outputs": [
    {
     "data": {
      "text/html": [
       "<div>\n",
       "<style scoped>\n",
       "    .dataframe tbody tr th:only-of-type {\n",
       "        vertical-align: middle;\n",
       "    }\n",
       "\n",
       "    .dataframe tbody tr th {\n",
       "        vertical-align: top;\n",
       "    }\n",
       "\n",
       "    .dataframe thead th {\n",
       "        text-align: right;\n",
       "    }\n",
       "</style>\n",
       "<table border=\"1\" class=\"dataframe\">\n",
       "  <thead>\n",
       "    <tr style=\"text-align: right;\">\n",
       "      <th></th>\n",
       "      <th>object</th>\n",
       "      <th>colour</th>\n",
       "      <th>quantity</th>\n",
       "    </tr>\n",
       "    <tr>\n",
       "      <th>shape</th>\n",
       "      <th></th>\n",
       "      <th></th>\n",
       "      <th></th>\n",
       "    </tr>\n",
       "  </thead>\n",
       "  <tbody>\n",
       "    <tr>\n",
       "      <th>circle</th>\n",
       "      <td>mirror</td>\n",
       "      <td>silver</td>\n",
       "      <td>1</td>\n",
       "    </tr>\n",
       "    <tr>\n",
       "      <th>rectangle</th>\n",
       "      <td>towel</td>\n",
       "      <td>white</td>\n",
       "      <td>2</td>\n",
       "    </tr>\n",
       "    <tr>\n",
       "      <th>square</th>\n",
       "      <td>box</td>\n",
       "      <td>brown</td>\n",
       "      <td>3</td>\n",
       "    </tr>\n",
       "  </tbody>\n",
       "</table>\n",
       "</div>"
      ],
      "text/plain": [
       "           object  colour  quantity\n",
       "shape                              \n",
       "circle     mirror  silver         1\n",
       "rectangle   towel   white         2\n",
       "square        box   brown         3"
      ]
     },
     "execution_count": 5,
     "metadata": {},
     "output_type": "execute_result"
    }
   ],
   "source": [
    "shaped_data.first()"
   ]
  },
  {
   "cell_type": "code",
   "execution_count": 6,
   "id": "3056b5af",
   "metadata": {},
   "outputs": [
    {
     "data": {
      "text/html": [
       "<div>\n",
       "<style scoped>\n",
       "    .dataframe tbody tr th:only-of-type {\n",
       "        vertical-align: middle;\n",
       "    }\n",
       "\n",
       "    .dataframe tbody tr th {\n",
       "        vertical-align: top;\n",
       "    }\n",
       "\n",
       "    .dataframe thead th {\n",
       "        text-align: right;\n",
       "    }\n",
       "</style>\n",
       "<table border=\"1\" class=\"dataframe\">\n",
       "  <thead>\n",
       "    <tr style=\"text-align: right;\">\n",
       "      <th></th>\n",
       "      <th>object</th>\n",
       "      <th>shape</th>\n",
       "      <th>colour</th>\n",
       "      <th>quantity</th>\n",
       "    </tr>\n",
       "  </thead>\n",
       "  <tbody>\n",
       "    <tr>\n",
       "      <th>3</th>\n",
       "      <td>box</td>\n",
       "      <td>square</td>\n",
       "      <td>brown</td>\n",
       "      <td>3</td>\n",
       "    </tr>\n",
       "    <tr>\n",
       "      <th>4</th>\n",
       "      <td>bread</td>\n",
       "      <td>square</td>\n",
       "      <td>white</td>\n",
       "      <td>10</td>\n",
       "    </tr>\n",
       "  </tbody>\n",
       "</table>\n",
       "</div>"
      ],
      "text/plain": [
       "  object   shape colour  quantity\n",
       "3    box  square  brown         3\n",
       "4  bread  square  white        10"
      ]
     },
     "execution_count": 6,
     "metadata": {},
     "output_type": "execute_result"
    }
   ],
   "source": [
    "shaped_data.get_group(\"square\")"
   ]
  },
  {
   "cell_type": "code",
   "execution_count": 7,
   "id": "b875071f",
   "metadata": {},
   "outputs": [
    {
     "data": {
      "text/plain": [
       "shape\n",
       "circle        9\n",
       "rectangle    36\n",
       "square       13\n",
       "Name: quantity, dtype: int64"
      ]
     },
     "execution_count": 7,
     "metadata": {},
     "output_type": "execute_result"
    }
   ],
   "source": [
    "shaped_data.quantity.sum()"
   ]
  },
  {
   "cell_type": "code",
   "execution_count": 8,
   "id": "1b0cea6a",
   "metadata": {},
   "outputs": [],
   "source": [
    "color_data = object_data.groupby(\"colour\")"
   ]
  },
  {
   "cell_type": "code",
   "execution_count": 9,
   "id": "ba7030e2",
   "metadata": {},
   "outputs": [
    {
     "data": {
      "text/html": [
       "<div>\n",
       "<style scoped>\n",
       "    .dataframe tbody tr th:only-of-type {\n",
       "        vertical-align: middle;\n",
       "    }\n",
       "\n",
       "    .dataframe tbody tr th {\n",
       "        vertical-align: top;\n",
       "    }\n",
       "\n",
       "    .dataframe thead th {\n",
       "        text-align: right;\n",
       "    }\n",
       "</style>\n",
       "<table border=\"1\" class=\"dataframe\">\n",
       "  <thead>\n",
       "    <tr style=\"text-align: right;\">\n",
       "      <th></th>\n",
       "      <th>object</th>\n",
       "      <th>shape</th>\n",
       "      <th>quantity</th>\n",
       "    </tr>\n",
       "    <tr>\n",
       "      <th>colour</th>\n",
       "      <th></th>\n",
       "      <th></th>\n",
       "      <th></th>\n",
       "    </tr>\n",
       "  </thead>\n",
       "  <tbody>\n",
       "    <tr>\n",
       "      <th>black</th>\n",
       "      <td>laptop</td>\n",
       "      <td>rectangle</td>\n",
       "      <td>1</td>\n",
       "    </tr>\n",
       "    <tr>\n",
       "      <th>blue</th>\n",
       "      <td>pen</td>\n",
       "      <td>rectangle</td>\n",
       "      <td>7</td>\n",
       "    </tr>\n",
       "    <tr>\n",
       "      <th>brown</th>\n",
       "      <td>box</td>\n",
       "      <td>square</td>\n",
       "      <td>3</td>\n",
       "    </tr>\n",
       "    <tr>\n",
       "      <th>red</th>\n",
       "      <td>bottle</td>\n",
       "      <td>rectangle</td>\n",
       "      <td>6</td>\n",
       "    </tr>\n",
       "    <tr>\n",
       "      <th>silver</th>\n",
       "      <td>mirror</td>\n",
       "      <td>circle</td>\n",
       "      <td>1</td>\n",
       "    </tr>\n",
       "    <tr>\n",
       "      <th>white</th>\n",
       "      <td>bread</td>\n",
       "      <td>square</td>\n",
       "      <td>10</td>\n",
       "    </tr>\n",
       "    <tr>\n",
       "      <th>yellow</th>\n",
       "      <td>lemon</td>\n",
       "      <td>circle</td>\n",
       "      <td>4</td>\n",
       "    </tr>\n",
       "  </tbody>\n",
       "</table>\n",
       "</div>"
      ],
      "text/plain": [
       "        object      shape  quantity\n",
       "colour                             \n",
       "black   laptop  rectangle         1\n",
       "blue       pen  rectangle         7\n",
       "brown      box     square         3\n",
       "red     bottle  rectangle         6\n",
       "silver  mirror     circle         1\n",
       "white    bread     square        10\n",
       "yellow   lemon     circle         4"
      ]
     },
     "execution_count": 9,
     "metadata": {},
     "output_type": "execute_result"
    }
   ],
   "source": [
    "color_data.first()"
   ]
  },
  {
   "cell_type": "code",
   "execution_count": 10,
   "id": "9ba25a23",
   "metadata": {},
   "outputs": [
    {
     "data": {
      "text/plain": [
       "colour\n",
       "black      1.0\n",
       "blue       7.0\n",
       "brown     11.5\n",
       "red        6.0\n",
       "silver     2.5\n",
       "white      6.0\n",
       "yellow     4.0\n",
       "Name: quantity, dtype: float64"
      ]
     },
     "execution_count": 10,
     "metadata": {},
     "output_type": "execute_result"
    }
   ],
   "source": [
    "color_data.quantity.mean()"
   ]
  },
  {
   "cell_type": "code",
   "execution_count": 11,
   "id": "6a8e5538",
   "metadata": {},
   "outputs": [],
   "source": [
    "array = object_data.values.T.tolist()"
   ]
  },
  {
   "cell_type": "code",
   "execution_count": 12,
   "id": "0a0134fa",
   "metadata": {},
   "outputs": [
    {
     "data": {
      "text/plain": [
       "[['mirror',\n",
       "  'wheel',\n",
       "  'lemon',\n",
       "  'box',\n",
       "  'bread',\n",
       "  'towel',\n",
       "  'laptop',\n",
       "  'pen',\n",
       "  'bottle',\n",
       "  'biscuit'],\n",
       " ['circle',\n",
       "  'circle',\n",
       "  'circle',\n",
       "  'square',\n",
       "  'square',\n",
       "  'rectangle',\n",
       "  'rectangle',\n",
       "  'rectangle',\n",
       "  'rectangle',\n",
       "  'rectangle'],\n",
       " ['silver',\n",
       "  'silver',\n",
       "  'yellow',\n",
       "  'brown',\n",
       "  'white',\n",
       "  'white',\n",
       "  'black',\n",
       "  'blue',\n",
       "  'red',\n",
       "  'brown'],\n",
       " [1, 4, 4, 3, 10, 2, 1, 7, 6, 20]]"
      ]
     },
     "execution_count": 12,
     "metadata": {},
     "output_type": "execute_result"
    }
   ],
   "source": [
    "array"
   ]
  },
  {
   "cell_type": "code",
   "execution_count": 13,
   "id": "6c948506",
   "metadata": {},
   "outputs": [],
   "source": [
    "array_index = array[1:3]"
   ]
  },
  {
   "cell_type": "code",
   "execution_count": 14,
   "id": "89e293f6",
   "metadata": {},
   "outputs": [
    {
     "data": {
      "text/plain": [
       "[['circle',\n",
       "  'circle',\n",
       "  'circle',\n",
       "  'square',\n",
       "  'square',\n",
       "  'rectangle',\n",
       "  'rectangle',\n",
       "  'rectangle',\n",
       "  'rectangle',\n",
       "  'rectangle'],\n",
       " ['silver',\n",
       "  'silver',\n",
       "  'yellow',\n",
       "  'brown',\n",
       "  'white',\n",
       "  'white',\n",
       "  'black',\n",
       "  'blue',\n",
       "  'red',\n",
       "  'brown']]"
      ]
     },
     "execution_count": 14,
     "metadata": {},
     "output_type": "execute_result"
    }
   ],
   "source": [
    "array_index"
   ]
  },
  {
   "cell_type": "code",
   "execution_count": 17,
   "id": "b2906aa5",
   "metadata": {},
   "outputs": [],
   "source": [
    "index = pd.MultiIndex.from_arrays(array_index,names=[\"shape\",\"colour\"])"
   ]
  },
  {
   "cell_type": "code",
   "execution_count": 18,
   "id": "43de2d5c",
   "metadata": {},
   "outputs": [],
   "source": [
    "multi_data = pd.DataFrame({\"object\":array[0],\n",
    "                          \"quantity\":array[3]},\n",
    "                         index=index)"
   ]
  },
  {
   "cell_type": "code",
   "execution_count": 19,
   "id": "98f5f482",
   "metadata": {},
   "outputs": [
    {
     "data": {
      "text/html": [
       "<div>\n",
       "<style scoped>\n",
       "    .dataframe tbody tr th:only-of-type {\n",
       "        vertical-align: middle;\n",
       "    }\n",
       "\n",
       "    .dataframe tbody tr th {\n",
       "        vertical-align: top;\n",
       "    }\n",
       "\n",
       "    .dataframe thead th {\n",
       "        text-align: right;\n",
       "    }\n",
       "</style>\n",
       "<table border=\"1\" class=\"dataframe\">\n",
       "  <thead>\n",
       "    <tr style=\"text-align: right;\">\n",
       "      <th></th>\n",
       "      <th></th>\n",
       "      <th>object</th>\n",
       "      <th>quantity</th>\n",
       "    </tr>\n",
       "    <tr>\n",
       "      <th>shape</th>\n",
       "      <th>colour</th>\n",
       "      <th></th>\n",
       "      <th></th>\n",
       "    </tr>\n",
       "  </thead>\n",
       "  <tbody>\n",
       "    <tr>\n",
       "      <th rowspan=\"3\" valign=\"top\">circle</th>\n",
       "      <th>silver</th>\n",
       "      <td>mirror</td>\n",
       "      <td>1</td>\n",
       "    </tr>\n",
       "    <tr>\n",
       "      <th>silver</th>\n",
       "      <td>wheel</td>\n",
       "      <td>4</td>\n",
       "    </tr>\n",
       "    <tr>\n",
       "      <th>yellow</th>\n",
       "      <td>lemon</td>\n",
       "      <td>4</td>\n",
       "    </tr>\n",
       "    <tr>\n",
       "      <th rowspan=\"2\" valign=\"top\">square</th>\n",
       "      <th>brown</th>\n",
       "      <td>box</td>\n",
       "      <td>3</td>\n",
       "    </tr>\n",
       "    <tr>\n",
       "      <th>white</th>\n",
       "      <td>bread</td>\n",
       "      <td>10</td>\n",
       "    </tr>\n",
       "    <tr>\n",
       "      <th rowspan=\"5\" valign=\"top\">rectangle</th>\n",
       "      <th>white</th>\n",
       "      <td>towel</td>\n",
       "      <td>2</td>\n",
       "    </tr>\n",
       "    <tr>\n",
       "      <th>black</th>\n",
       "      <td>laptop</td>\n",
       "      <td>1</td>\n",
       "    </tr>\n",
       "    <tr>\n",
       "      <th>blue</th>\n",
       "      <td>pen</td>\n",
       "      <td>7</td>\n",
       "    </tr>\n",
       "    <tr>\n",
       "      <th>red</th>\n",
       "      <td>bottle</td>\n",
       "      <td>6</td>\n",
       "    </tr>\n",
       "    <tr>\n",
       "      <th>brown</th>\n",
       "      <td>biscuit</td>\n",
       "      <td>20</td>\n",
       "    </tr>\n",
       "  </tbody>\n",
       "</table>\n",
       "</div>"
      ],
      "text/plain": [
       "                   object  quantity\n",
       "shape     colour                   \n",
       "circle    silver   mirror         1\n",
       "          silver    wheel         4\n",
       "          yellow    lemon         4\n",
       "square    brown       box         3\n",
       "          white     bread        10\n",
       "rectangle white     towel         2\n",
       "          black    laptop         1\n",
       "          blue        pen         7\n",
       "          red      bottle         6\n",
       "          brown   biscuit        20"
      ]
     },
     "execution_count": 19,
     "metadata": {},
     "output_type": "execute_result"
    }
   ],
   "source": [
    "multi_data"
   ]
  },
  {
   "cell_type": "code",
   "execution_count": 21,
   "id": "836da7da",
   "metadata": {},
   "outputs": [
    {
     "data": {
      "text/html": [
       "<div>\n",
       "<style scoped>\n",
       "    .dataframe tbody tr th:only-of-type {\n",
       "        vertical-align: middle;\n",
       "    }\n",
       "\n",
       "    .dataframe tbody tr th {\n",
       "        vertical-align: top;\n",
       "    }\n",
       "\n",
       "    .dataframe thead th {\n",
       "        text-align: right;\n",
       "    }\n",
       "</style>\n",
       "<table border=\"1\" class=\"dataframe\">\n",
       "  <thead>\n",
       "    <tr style=\"text-align: right;\">\n",
       "      <th></th>\n",
       "      <th></th>\n",
       "      <th>quantity</th>\n",
       "    </tr>\n",
       "    <tr>\n",
       "      <th>colour</th>\n",
       "      <th>shape</th>\n",
       "      <th></th>\n",
       "    </tr>\n",
       "  </thead>\n",
       "  <tbody>\n",
       "    <tr>\n",
       "      <th>black</th>\n",
       "      <th>rectangle</th>\n",
       "      <td>1</td>\n",
       "    </tr>\n",
       "    <tr>\n",
       "      <th>blue</th>\n",
       "      <th>rectangle</th>\n",
       "      <td>7</td>\n",
       "    </tr>\n",
       "    <tr>\n",
       "      <th rowspan=\"2\" valign=\"top\">brown</th>\n",
       "      <th>rectangle</th>\n",
       "      <td>20</td>\n",
       "    </tr>\n",
       "    <tr>\n",
       "      <th>square</th>\n",
       "      <td>3</td>\n",
       "    </tr>\n",
       "    <tr>\n",
       "      <th>red</th>\n",
       "      <th>rectangle</th>\n",
       "      <td>6</td>\n",
       "    </tr>\n",
       "    <tr>\n",
       "      <th>silver</th>\n",
       "      <th>circle</th>\n",
       "      <td>5</td>\n",
       "    </tr>\n",
       "    <tr>\n",
       "      <th rowspan=\"2\" valign=\"top\">white</th>\n",
       "      <th>rectangle</th>\n",
       "      <td>2</td>\n",
       "    </tr>\n",
       "    <tr>\n",
       "      <th>square</th>\n",
       "      <td>10</td>\n",
       "    </tr>\n",
       "    <tr>\n",
       "      <th>yellow</th>\n",
       "      <th>circle</th>\n",
       "      <td>4</td>\n",
       "    </tr>\n",
       "  </tbody>\n",
       "</table>\n",
       "</div>"
      ],
      "text/plain": [
       "                  quantity\n",
       "colour shape              \n",
       "black  rectangle         1\n",
       "blue   rectangle         7\n",
       "brown  rectangle        20\n",
       "       square            3\n",
       "red    rectangle         6\n",
       "silver circle            5\n",
       "white  rectangle         2\n",
       "       square           10\n",
       "yellow circle            4"
      ]
     },
     "execution_count": 21,
     "metadata": {},
     "output_type": "execute_result"
    }
   ],
   "source": [
    "multi_data.groupby(level=[\"colour\",\"shape\"]).sum()"
   ]
  },
  {
   "cell_type": "code",
   "execution_count": 23,
   "id": "acaed7c8",
   "metadata": {},
   "outputs": [
    {
     "data": {
      "text/html": [
       "<div>\n",
       "<style scoped>\n",
       "    .dataframe tbody tr th:only-of-type {\n",
       "        vertical-align: middle;\n",
       "    }\n",
       "\n",
       "    .dataframe tbody tr th {\n",
       "        vertical-align: top;\n",
       "    }\n",
       "\n",
       "    .dataframe thead th {\n",
       "        text-align: right;\n",
       "    }\n",
       "</style>\n",
       "<table border=\"1\" class=\"dataframe\">\n",
       "  <thead>\n",
       "    <tr style=\"text-align: right;\">\n",
       "      <th></th>\n",
       "      <th></th>\n",
       "      <th>object</th>\n",
       "      <th>quantity</th>\n",
       "    </tr>\n",
       "    <tr>\n",
       "      <th>shape</th>\n",
       "      <th>colour</th>\n",
       "      <th></th>\n",
       "      <th></th>\n",
       "    </tr>\n",
       "  </thead>\n",
       "  <tbody>\n",
       "    <tr>\n",
       "      <th>rectangle</th>\n",
       "      <th>white</th>\n",
       "      <td>towel</td>\n",
       "      <td>2</td>\n",
       "    </tr>\n",
       "  </tbody>\n",
       "</table>\n",
       "</div>"
      ],
      "text/plain": [
       "                 object  quantity\n",
       "shape     colour                 \n",
       "rectangle white   towel         2"
      ]
     },
     "execution_count": 23,
     "metadata": {},
     "output_type": "execute_result"
    }
   ],
   "source": [
    "multi_data.groupby(level=[\"colour\",\"shape\"]).get_group((\"white\",\"rectangle\"))"
   ]
  },
  {
   "cell_type": "code",
   "execution_count": 25,
   "id": "9bd6d914",
   "metadata": {},
   "outputs": [
    {
     "name": "stdout",
     "output_type": "stream",
     "text": [
      "name black\n",
      "group    object      shape colour  quantity\n",
      "6  laptop  rectangle  black         1\n",
      "name blue\n",
      "group   object      shape colour  quantity\n",
      "7    pen  rectangle   blue         7\n",
      "name brown\n",
      "group     object      shape colour  quantity\n",
      "3      box     square  brown         3\n",
      "9  biscuit  rectangle  brown        20\n",
      "name red\n",
      "group    object      shape colour  quantity\n",
      "8  bottle  rectangle    red         6\n",
      "name silver\n",
      "group    object   shape  colour  quantity\n",
      "0  mirror  circle  silver         1\n",
      "1   wheel  circle  silver         4\n",
      "name white\n",
      "group   object      shape colour  quantity\n",
      "4  bread     square  white        10\n",
      "5  towel  rectangle  white         2\n",
      "name yellow\n",
      "group   object   shape  colour  quantity\n",
      "2  lemon  circle  yellow         4\n"
     ]
    }
   ],
   "source": [
    "for name,group in object_data.groupby(\"colour\"):\n",
    "    print(\"name\",name)\n",
    "    print(\"group\",group)"
   ]
  },
  {
   "cell_type": "code",
   "execution_count": null,
   "id": "0f069a47",
   "metadata": {},
   "outputs": [],
   "source": []
  }
 ],
 "metadata": {
  "kernelspec": {
   "display_name": "Python 3 (ipykernel)",
   "language": "python",
   "name": "python3"
  },
  "language_info": {
   "codemirror_mode": {
    "name": "ipython",
    "version": 3
   },
   "file_extension": ".py",
   "mimetype": "text/x-python",
   "name": "python",
   "nbconvert_exporter": "python",
   "pygments_lexer": "ipython3",
   "version": "3.9.7"
  }
 },
 "nbformat": 4,
 "nbformat_minor": 5
}
